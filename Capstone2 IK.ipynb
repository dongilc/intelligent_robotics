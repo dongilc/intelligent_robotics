{
 "cells": [
  {
   "cell_type": "code",
   "execution_count": 1,
   "metadata": {},
   "outputs": [],
   "source": [
    "import intelligent_robotics as ir\n",
    "import sympy as sp\n",
    "import numpy as np\n",
    "import math"
   ]
  },
  {
   "cell_type": "code",
   "execution_count": 2,
   "metadata": {},
   "outputs": [],
   "source": [
    "theta1, theta2, theta3, theta4 = sp.symbols('theta1, theta2, theta3, theta4')\n",
    "l1, l2, l3, l4, x, y, z, phi = sp.symbols('l1, l2, l3, l4, x, y, z, phi')\n",
    "T01 = ir.DH(0, 0, l1, theta1)\n",
    "T12 = ir.DH(0, sp.pi / 2, 0, sp.pi / 2 + theta2)\n",
    "T23 = ir.DH(l2, 0, 0, theta3)\n",
    "T34 = ir.DH(l3, 0, 0, theta4)\n",
    "T45 = ir.DH(l4, 0, 0, 0)\n",
    "T05 = sp.simplify(T01 * T12 * T23 * T34 * T45)"
   ]
  },
  {
   "cell_type": "code",
   "execution_count": 3,
   "metadata": {
    "scrolled": true
   },
   "outputs": [
    {
     "data": {
      "text/latex": [
       "$\\displaystyle \\left[\\begin{matrix}- \\sin{\\left(\\theta_{2} + \\theta_{3} + \\theta_{4} \\right)} \\cos{\\left(\\theta_{1} \\right)} & - \\cos{\\left(\\theta_{1} \\right)} \\cos{\\left(\\theta_{2} + \\theta_{3} + \\theta_{4} \\right)} & \\sin{\\left(\\theta_{1} \\right)} & - \\left(l_{2} \\sin{\\left(\\theta_{2} \\right)} + l_{3} \\sin{\\left(\\theta_{2} + \\theta_{3} \\right)} + l_{4} \\sin{\\left(\\theta_{2} + \\theta_{3} + \\theta_{4} \\right)}\\right) \\cos{\\left(\\theta_{1} \\right)}\\\\- \\sin{\\left(\\theta_{1} \\right)} \\sin{\\left(\\theta_{2} + \\theta_{3} + \\theta_{4} \\right)} & - \\sin{\\left(\\theta_{1} \\right)} \\cos{\\left(\\theta_{2} + \\theta_{3} + \\theta_{4} \\right)} & - \\cos{\\left(\\theta_{1} \\right)} & - \\left(l_{2} \\sin{\\left(\\theta_{2} \\right)} + l_{3} \\sin{\\left(\\theta_{2} + \\theta_{3} \\right)} + l_{4} \\sin{\\left(\\theta_{2} + \\theta_{3} + \\theta_{4} \\right)}\\right) \\sin{\\left(\\theta_{1} \\right)}\\\\\\cos{\\left(\\theta_{2} + \\theta_{3} + \\theta_{4} \\right)} & - \\sin{\\left(\\theta_{2} + \\theta_{3} + \\theta_{4} \\right)} & 0 & l_{1} + l_{2} \\cos{\\left(\\theta_{2} \\right)} + l_{3} \\cos{\\left(\\theta_{2} + \\theta_{3} \\right)} + l_{4} \\cos{\\left(\\theta_{2} + \\theta_{3} + \\theta_{4} \\right)}\\\\0 & 0 & 0 & 1\\end{matrix}\\right]$"
      ],
      "text/plain": [
       "Matrix([\n",
       "[-sin(theta2 + theta3 + theta4)*cos(theta1), -cos(theta1)*cos(theta2 + theta3 + theta4),  sin(theta1), -(l2*sin(theta2) + l3*sin(theta2 + theta3) + l4*sin(theta2 + theta3 + theta4))*cos(theta1)],\n",
       "[-sin(theta1)*sin(theta2 + theta3 + theta4), -sin(theta1)*cos(theta2 + theta3 + theta4), -cos(theta1), -(l2*sin(theta2) + l3*sin(theta2 + theta3) + l4*sin(theta2 + theta3 + theta4))*sin(theta1)],\n",
       "[             cos(theta2 + theta3 + theta4),             -sin(theta2 + theta3 + theta4),            0,           l1 + l2*cos(theta2) + l3*cos(theta2 + theta3) + l4*cos(theta2 + theta3 + theta4)],\n",
       "[                                         0,                                          0,            0,                                                                                          1]])"
      ]
     },
     "execution_count": 3,
     "metadata": {},
     "output_type": "execute_result"
    }
   ],
   "source": [
    "T05"
   ]
  },
  {
   "cell_type": "code",
   "execution_count": 4,
   "metadata": {},
   "outputs": [
    {
     "data": {
      "text/latex": [
       "$\\displaystyle \\left[\\begin{matrix}\\left(l_{2} \\sin{\\left(\\theta_{2} \\right)} + l_{3} \\sin{\\left(\\theta_{2} + \\theta_{3} \\right)} + l_{4} \\sin{\\left(\\theta_{2} + \\theta_{3} + \\theta_{4} \\right)}\\right) \\sin{\\left(\\theta_{1} \\right)} & - \\left(l_{2} \\cos{\\left(\\theta_{2} \\right)} + l_{3} \\cos{\\left(\\theta_{2} + \\theta_{3} \\right)} + l_{4} \\cos{\\left(\\theta_{2} + \\theta_{3} + \\theta_{4} \\right)}\\right) \\cos{\\left(\\theta_{1} \\right)} & - \\left(l_{3} \\cos{\\left(\\theta_{2} + \\theta_{3} \\right)} + l_{4} \\cos{\\left(\\theta_{2} + \\theta_{3} + \\theta_{4} \\right)}\\right) \\cos{\\left(\\theta_{1} \\right)} & - l_{4} \\cos{\\left(\\theta_{1} \\right)} \\cos{\\left(\\theta_{2} + \\theta_{3} + \\theta_{4} \\right)}\\\\- \\left(l_{2} \\sin{\\left(\\theta_{2} \\right)} + l_{3} \\sin{\\left(\\theta_{2} + \\theta_{3} \\right)} + l_{4} \\sin{\\left(\\theta_{2} + \\theta_{3} + \\theta_{4} \\right)}\\right) \\cos{\\left(\\theta_{1} \\right)} & - \\left(l_{2} \\cos{\\left(\\theta_{2} \\right)} + l_{3} \\cos{\\left(\\theta_{2} + \\theta_{3} \\right)} + l_{4} \\cos{\\left(\\theta_{2} + \\theta_{3} + \\theta_{4} \\right)}\\right) \\sin{\\left(\\theta_{1} \\right)} & - \\left(l_{3} \\cos{\\left(\\theta_{2} + \\theta_{3} \\right)} + l_{4} \\cos{\\left(\\theta_{2} + \\theta_{3} + \\theta_{4} \\right)}\\right) \\sin{\\left(\\theta_{1} \\right)} & - l_{4} \\sin{\\left(\\theta_{1} \\right)} \\cos{\\left(\\theta_{2} + \\theta_{3} + \\theta_{4} \\right)}\\\\0 & - l_{2} \\sin{\\left(\\theta_{2} \\right)} - l_{3} \\sin{\\left(\\theta_{2} + \\theta_{3} \\right)} - l_{4} \\sin{\\left(\\theta_{2} + \\theta_{3} + \\theta_{4} \\right)} & - l_{3} \\sin{\\left(\\theta_{2} + \\theta_{3} \\right)} - l_{4} \\sin{\\left(\\theta_{2} + \\theta_{3} + \\theta_{4} \\right)} & - l_{4} \\sin{\\left(\\theta_{2} + \\theta_{3} + \\theta_{4} \\right)}\\\\0 & \\sin{\\left(\\theta_{1} \\right)} & \\sin{\\left(\\theta_{1} \\right)} & \\sin{\\left(\\theta_{1} \\right)}\\\\0 & - \\cos{\\left(\\theta_{1} \\right)} & - \\cos{\\left(\\theta_{1} \\right)} & - \\cos{\\left(\\theta_{1} \\right)}\\\\1 & 0 & 0 & 0\\end{matrix}\\right]$"
      ],
      "text/plain": [
       "Matrix([\n",
       "[ (l2*sin(theta2) + l3*sin(theta2 + theta3) + l4*sin(theta2 + theta3 + theta4))*sin(theta1), -(l2*cos(theta2) + l3*cos(theta2 + theta3) + l4*cos(theta2 + theta3 + theta4))*cos(theta1), -(l3*cos(theta2 + theta3) + l4*cos(theta2 + theta3 + theta4))*cos(theta1), -l4*cos(theta1)*cos(theta2 + theta3 + theta4)],\n",
       "[-(l2*sin(theta2) + l3*sin(theta2 + theta3) + l4*sin(theta2 + theta3 + theta4))*cos(theta1), -(l2*cos(theta2) + l3*cos(theta2 + theta3) + l4*cos(theta2 + theta3 + theta4))*sin(theta1), -(l3*cos(theta2 + theta3) + l4*cos(theta2 + theta3 + theta4))*sin(theta1), -l4*sin(theta1)*cos(theta2 + theta3 + theta4)],\n",
       "[                                                                                         0,               -l2*sin(theta2) - l3*sin(theta2 + theta3) - l4*sin(theta2 + theta3 + theta4),               -l3*sin(theta2 + theta3) - l4*sin(theta2 + theta3 + theta4),             -l4*sin(theta2 + theta3 + theta4)],\n",
       "[                                                                                         0,                                                                                sin(theta1),                                                               sin(theta1),                                   sin(theta1)],\n",
       "[                                                                                         0,                                                                               -cos(theta1),                                                              -cos(theta1),                                  -cos(theta1)],\n",
       "[                                                                                         1,                                                                                          0,                                                                         0,                                             0]])"
      ]
     },
     "execution_count": 4,
     "metadata": {},
     "output_type": "execute_result"
    }
   ],
   "source": [
    "theta1,theta2,theta3,theta4 = ir.dynamicsymbols('theta1,theta2,theta3,theta4')\n",
    "\n",
    "w_0_0 = sp.Matrix([[0], [0], [0]])\n",
    "w_1_1 = ir.get_angular_vel_R(T01, w_0_0, theta1.diff())\n",
    "w_2_2 = ir.get_angular_vel_R(T12, w_1_1, theta2.diff())\n",
    "w_3_3 = ir.get_angular_vel_R(T23, w_2_2, theta3.diff())\n",
    "w_4_4 = ir.get_angular_vel_R(T34, w_3_3, theta4.diff())\n",
    "w_5_5 = ir.get_angular_vel_R(T45, w_4_4, 0)\n",
    "\n",
    "v_0_0 = sp.Matrix([[0], [0], [0]])\n",
    "v_1_1 = ir.get_linear_vel_R(T01, w_0_0, v_0_0)\n",
    "v_2_2 = ir.get_linear_vel_R(T12, w_1_1, v_1_1)\n",
    "v_3_3 = ir.get_linear_vel_R(T23, w_2_2, v_2_2)\n",
    "v_4_4 = ir.get_linear_vel_R(T34, w_3_3, v_3_3)\n",
    "v_5_5 = ir.get_linear_vel_R(T45, w_4_4, v_4_4)\n",
    "                             \n",
    "qd = sp.Matrix([[theta1.diff()], [theta2.diff()], [theta3.diff()], [theta4.diff()]])\n",
    "\n",
    "w_0_5 = ir.get_R_from_T(T05) * w_5_5\n",
    "v_0_5 = ir.get_R_from_T(T05) * v_5_5\n",
    "J_0_5 = ir.get_Jacobian_from_vel(w_0_5, v_0_5, qd)\n",
    "\n",
    "# Space Jacobian\n",
    "J_0_5"
   ]
  },
  {
   "cell_type": "code",
   "execution_count": 5,
   "metadata": {},
   "outputs": [
    {
     "data": {
      "text/latex": [
       "$\\displaystyle \\left[\\begin{matrix}\\left(l_{2} \\sin{\\left(\\theta_{2} \\right)} + l_{3} \\sin{\\left(\\theta_{2} + \\theta_{3} \\right)} + l_{4} \\sin{\\left(\\theta_{2} + \\theta_{3} + \\theta_{4} \\right)}\\right) \\sin{\\left(\\theta_{1} \\right)} & - \\left(l_{2} \\cos{\\left(\\theta_{2} \\right)} + l_{3} \\cos{\\left(\\theta_{2} + \\theta_{3} \\right)} + l_{4} \\cos{\\left(\\theta_{2} + \\theta_{3} + \\theta_{4} \\right)}\\right) \\cos{\\left(\\theta_{1} \\right)} & - \\left(l_{3} \\cos{\\left(\\theta_{2} + \\theta_{3} \\right)} + l_{4} \\cos{\\left(\\theta_{2} + \\theta_{3} + \\theta_{4} \\right)}\\right) \\cos{\\left(\\theta_{1} \\right)} & - l_{4} \\cos{\\left(\\theta_{1} \\right)} \\cos{\\left(\\theta_{2} + \\theta_{3} + \\theta_{4} \\right)}\\\\- \\left(l_{2} \\sin{\\left(\\theta_{2} \\right)} + l_{3} \\sin{\\left(\\theta_{2} + \\theta_{3} \\right)} + l_{4} \\sin{\\left(\\theta_{2} + \\theta_{3} + \\theta_{4} \\right)}\\right) \\cos{\\left(\\theta_{1} \\right)} & - \\left(l_{2} \\cos{\\left(\\theta_{2} \\right)} + l_{3} \\cos{\\left(\\theta_{2} + \\theta_{3} \\right)} + l_{4} \\cos{\\left(\\theta_{2} + \\theta_{3} + \\theta_{4} \\right)}\\right) \\sin{\\left(\\theta_{1} \\right)} & - \\left(l_{3} \\cos{\\left(\\theta_{2} + \\theta_{3} \\right)} + l_{4} \\cos{\\left(\\theta_{2} + \\theta_{3} + \\theta_{4} \\right)}\\right) \\sin{\\left(\\theta_{1} \\right)} & - l_{4} \\sin{\\left(\\theta_{1} \\right)} \\cos{\\left(\\theta_{2} + \\theta_{3} + \\theta_{4} \\right)}\\\\0 & - l_{2} \\sin{\\left(\\theta_{2} \\right)} - l_{3} \\sin{\\left(\\theta_{2} + \\theta_{3} \\right)} - l_{4} \\sin{\\left(\\theta_{2} + \\theta_{3} + \\theta_{4} \\right)} & - l_{3} \\sin{\\left(\\theta_{2} + \\theta_{3} \\right)} - l_{4} \\sin{\\left(\\theta_{2} + \\theta_{3} + \\theta_{4} \\right)} & - l_{4} \\sin{\\left(\\theta_{2} + \\theta_{3} + \\theta_{4} \\right)}\\end{matrix}\\right]$"
      ],
      "text/plain": [
       "Matrix([\n",
       "[ (l2*sin(theta2) + l3*sin(theta2 + theta3) + l4*sin(theta2 + theta3 + theta4))*sin(theta1), -(l2*cos(theta2) + l3*cos(theta2 + theta3) + l4*cos(theta2 + theta3 + theta4))*cos(theta1), -(l3*cos(theta2 + theta3) + l4*cos(theta2 + theta3 + theta4))*cos(theta1), -l4*cos(theta1)*cos(theta2 + theta3 + theta4)],\n",
       "[-(l2*sin(theta2) + l3*sin(theta2 + theta3) + l4*sin(theta2 + theta3 + theta4))*cos(theta1), -(l2*cos(theta2) + l3*cos(theta2 + theta3) + l4*cos(theta2 + theta3 + theta4))*sin(theta1), -(l3*cos(theta2 + theta3) + l4*cos(theta2 + theta3 + theta4))*sin(theta1), -l4*sin(theta1)*cos(theta2 + theta3 + theta4)],\n",
       "[                                                                                         0,               -l2*sin(theta2) - l3*sin(theta2 + theta3) - l4*sin(theta2 + theta3 + theta4),               -l3*sin(theta2 + theta3) - l4*sin(theta2 + theta3 + theta4),             -l4*sin(theta2 + theta3 + theta4)]])"
      ]
     },
     "execution_count": 5,
     "metadata": {},
     "output_type": "execute_result"
    }
   ],
   "source": [
    "J_0_5[0:3, :]"
   ]
  },
  {
   "cell_type": "code",
   "execution_count": 6,
   "metadata": {},
   "outputs": [],
   "source": [
    "# Substitution Dynamicsymbol to general symbol\n",
    "#import sympy.physics.mechanics as mechanics\n",
    "#th1,th2,th3,th4 = sp.symbols('th1,th2,th3,th4')\n",
    "#substitutions = [(mechanics.dynamicsymbols(name), val) \n",
    "#                 for name, val in [('theta1', th1), ('theta2', th2), ('theta3', th3), ('theta4', th4)]]\n",
    "#J_0_5_vel = mechanics.msubs(J_0_5[0:3, :], substitutions)\n",
    "#J_0_5_vel"
   ]
  },
  {
   "cell_type": "markdown",
   "metadata": {},
   "source": [
    "# Numerical IK"
   ]
  },
  {
   "cell_type": "code",
   "execution_count": 7,
   "metadata": {},
   "outputs": [],
   "source": [
    "theta1, theta2, theta3, theta4 = sp.symbols('theta1, theta2, theta3, theta4')"
   ]
  },
  {
   "cell_type": "code",
   "execution_count": 8,
   "metadata": {},
   "outputs": [],
   "source": [
    "def get_pos_Link_Robot(l1, l2, l3, l4, th1, th2, th3, th4):\n",
    "    x = -np.cos(th1) * (l2 * np.sin(th2) + l3 * np.sin(th2 + th3) + l4 * np.sin(th2 + th3 + th4))\n",
    "    y = -np.sin(th1) * (l2 * np.sin(th2) + l3 * np.sin(th2 + th3) + l4 * np.sin(th2 + th3 + th4))\n",
    "    z = l1 + (l2 * np.cos(th2)) + (l3 * np.cos(th2 + th3)) + l4 * np.cos(th2 + th3 + th4)\n",
    "    return np.array([x, y, z])"
   ]
  },
  {
   "cell_type": "code",
   "execution_count": 9,
   "metadata": {},
   "outputs": [
    {
     "data": {
      "text/latex": [
       "$\\displaystyle \\left[\\begin{matrix}\\left(0.105 \\sin{\\left(\\theta_{2} \\right)} + 0.1 \\sin{\\left(\\theta_{2} + \\theta_{3} \\right)} + 0.11 \\sin{\\left(\\theta_{2} + \\theta_{3} + \\theta_{4} \\right)}\\right) \\sin{\\left(\\theta_{1} \\right)} & - \\left(0.105 \\cos{\\left(\\theta_{2} \\right)} + 0.1 \\cos{\\left(\\theta_{2} + \\theta_{3} \\right)} + 0.11 \\cos{\\left(\\theta_{2} + \\theta_{3} + \\theta_{4} \\right)}\\right) \\cos{\\left(\\theta_{1} \\right)} & - \\left(0.1 \\cos{\\left(\\theta_{2} + \\theta_{3} \\right)} + 0.11 \\cos{\\left(\\theta_{2} + \\theta_{3} + \\theta_{4} \\right)}\\right) \\cos{\\left(\\theta_{1} \\right)} & - 0.11 \\cos{\\left(\\theta_{1} \\right)} \\cos{\\left(\\theta_{2} + \\theta_{3} + \\theta_{4} \\right)}\\\\- \\left(0.105 \\sin{\\left(\\theta_{2} \\right)} + 0.1 \\sin{\\left(\\theta_{2} + \\theta_{3} \\right)} + 0.11 \\sin{\\left(\\theta_{2} + \\theta_{3} + \\theta_{4} \\right)}\\right) \\cos{\\left(\\theta_{1} \\right)} & - \\left(0.105 \\cos{\\left(\\theta_{2} \\right)} + 0.1 \\cos{\\left(\\theta_{2} + \\theta_{3} \\right)} + 0.11 \\cos{\\left(\\theta_{2} + \\theta_{3} + \\theta_{4} \\right)}\\right) \\sin{\\left(\\theta_{1} \\right)} & - \\left(0.1 \\cos{\\left(\\theta_{2} + \\theta_{3} \\right)} + 0.11 \\cos{\\left(\\theta_{2} + \\theta_{3} + \\theta_{4} \\right)}\\right) \\sin{\\left(\\theta_{1} \\right)} & - 0.11 \\sin{\\left(\\theta_{1} \\right)} \\cos{\\left(\\theta_{2} + \\theta_{3} + \\theta_{4} \\right)}\\\\0 & - 0.105 \\sin{\\left(\\theta_{2} \\right)} - 0.1 \\sin{\\left(\\theta_{2} + \\theta_{3} \\right)} - 0.11 \\sin{\\left(\\theta_{2} + \\theta_{3} + \\theta_{4} \\right)} & - 0.1 \\sin{\\left(\\theta_{2} + \\theta_{3} \\right)} - 0.11 \\sin{\\left(\\theta_{2} + \\theta_{3} + \\theta_{4} \\right)} & - 0.11 \\sin{\\left(\\theta_{2} + \\theta_{3} + \\theta_{4} \\right)}\\end{matrix}\\right]$"
      ],
      "text/plain": [
       "Matrix([\n",
       "[ (0.105*sin(theta2) + 0.1*sin(theta2 + theta3) + 0.11*sin(theta2 + theta3 + theta4))*sin(theta1), -(0.105*cos(theta2) + 0.1*cos(theta2 + theta3) + 0.11*cos(theta2 + theta3 + theta4))*cos(theta1), -(0.1*cos(theta2 + theta3) + 0.11*cos(theta2 + theta3 + theta4))*cos(theta1), -0.11*cos(theta1)*cos(theta2 + theta3 + theta4)],\n",
       "[-(0.105*sin(theta2) + 0.1*sin(theta2 + theta3) + 0.11*sin(theta2 + theta3 + theta4))*cos(theta1), -(0.105*cos(theta2) + 0.1*cos(theta2 + theta3) + 0.11*cos(theta2 + theta3 + theta4))*sin(theta1), -(0.1*cos(theta2 + theta3) + 0.11*cos(theta2 + theta3 + theta4))*sin(theta1), -0.11*sin(theta1)*cos(theta2 + theta3 + theta4)],\n",
       "[                                                                                               0,               -0.105*sin(theta2) - 0.1*sin(theta2 + theta3) - 0.11*sin(theta2 + theta3 + theta4),               -0.1*sin(theta2 + theta3) - 0.11*sin(theta2 + theta3 + theta4),             -0.11*sin(theta2 + theta3 + theta4)]])"
      ]
     },
     "execution_count": 9,
     "metadata": {},
     "output_type": "execute_result"
    }
   ],
   "source": [
    "J = J_0_5[0:3, :].subs({l1:75/1000, l2:105/1000, l3:100/1000, l4:110/1000})\n",
    "#param = {x:150/1000, y:0, z:200/1000}\n",
    "param = {x:0/1000, y:0, z:0.39}\n",
    "J"
   ]
  },
  {
   "cell_type": "code",
   "execution_count": 10,
   "metadata": {},
   "outputs": [
    {
     "data": {
      "text/plain": [
       "<function _lambdifygenerated(theta1, theta2, theta3, theta4)>"
      ]
     },
     "execution_count": 10,
     "metadata": {},
     "output_type": "execute_result"
    }
   ],
   "source": [
    "# Make function of J(theta)\n",
    "func_J = sp.lambdify([theta1, theta2, theta3, theta4], J, 'numpy')\n",
    "func_J"
   ]
  },
  {
   "cell_type": "code",
   "execution_count": 11,
   "metadata": {},
   "outputs": [
    {
     "data": {
      "text/plain": [
       "(0.001, 0.001, 0.001, 0.001)"
      ]
     },
     "execution_count": 11,
     "metadata": {},
     "output_type": "execute_result"
    }
   ],
   "source": [
    "i = 0\n",
    "x_des = np.array([0, 0, 0.39])\n",
    "theta_0 = np.array([0.001, 0.001, 0.001, 0.001])\n",
    "theta_0[0], theta_0[1], theta_0[2], theta_0[3]"
   ]
  },
  {
   "cell_type": "code",
   "execution_count": 12,
   "metadata": {},
   "outputs": [
    {
     "data": {
      "text/plain": [
       "array([[ 6.34924837e-05, -3.14909508e-01, -2.09920008e-01,\n",
       "        -1.09945006e-01],\n",
       "       [-6.34903673e-03, -3.14920006e-03, -2.09927006e-03,\n",
       "        -1.09948671e-03],\n",
       "       [ 0.00000000e+00, -6.34935419e-03, -5.29937169e-03,\n",
       "        -3.29950502e-03]])"
      ]
     },
     "execution_count": 12,
     "metadata": {},
     "output_type": "execute_result"
    }
   ],
   "source": [
    "#func_J(theta_0[0], theta_0[1], theta_0[2], theta_0[3])\n",
    "func_J(0.01, 0.01, 0.01, 0.01)"
   ]
  },
  {
   "cell_type": "code",
   "execution_count": 13,
   "metadata": {},
   "outputs": [],
   "source": [
    "epsilon = 1e-10\n",
    "theta = theta_0\n",
    "theta_store = theta_0\n",
    "err = x_des - get_pos_Link_Robot(75/1000, 105/1000, 100/1000, 110/1000, theta[0], theta[1], theta[2], theta[3])\n",
    "\n",
    "while (np.linalg.norm(err) > epsilon):\n",
    "    J_now = func_J(theta[0], theta[1], theta[2], theta[3])\n",
    "    m, n = J_now.shape\n",
    "    if m > n:\n",
    "        J_inv = np.linalg.inv((J_now.transpose() @ J_now)) @ J_now.transpose()\n",
    "    if m < n:\n",
    "        J_inv = J_now.transpose() @ np.linalg.inv((J_now @ J_now.transpose()))\n",
    "    if m==n:\n",
    "        J_inv = np.linalg.inv(J_now)\n",
    "        \n",
    "    theta = theta + J_inv @ err\n",
    "    err = x_des - get_pos_Link_Robot(75/1000, 105/1000, 100/1000, 110/1000, theta[0], theta[1], theta[2], theta[3])\n",
    "    theta_store = np.vstack([theta_store, theta])\n",
    "    i += 1"
   ]
  },
  {
   "cell_type": "code",
   "execution_count": 14,
   "metadata": {},
   "outputs": [
    {
     "data": {
      "text/plain": [
       "array([-1.29209736e-13, -1.29209779e-16,  2.96988545e-11])"
      ]
     },
     "execution_count": 14,
     "metadata": {},
     "output_type": "execute_result"
    }
   ],
   "source": [
    "err"
   ]
  },
  {
   "cell_type": "code",
   "execution_count": 15,
   "metadata": {},
   "outputs": [
    {
     "data": {
      "text/plain": [
       "2.9699135559802897e-11"
      ]
     },
     "execution_count": 15,
     "metadata": {},
     "output_type": "execute_result"
    }
   ],
   "source": [
    "np.linalg.norm(err)"
   ]
  },
  {
   "cell_type": "code",
   "execution_count": 16,
   "metadata": {},
   "outputs": [
    {
     "data": {
      "text/plain": [
       "array([[ 1.00000000e-03,  1.00000000e-03,  1.00000000e-03,\n",
       "         1.00000000e-03],\n",
       "       [ 1.00000000e-03, -3.30024386e-03,  2.75575940e-03,\n",
       "         4.18970519e-03],\n",
       "       [ 9.99999999e-04, -1.68303519e-03,  1.46808361e-03,\n",
       "         2.01689421e-03],\n",
       "       [ 9.99999999e-04, -8.66296335e-04,  8.03777287e-04,\n",
       "         9.46273606e-04],\n",
       "       [ 9.99999998e-04, -4.51315532e-04,  4.55335045e-04,\n",
       "         4.23127558e-04],\n",
       "       [ 9.99999997e-04, -2.38327940e-04,  2.67957740e-04,\n",
       "         1.70928888e-04],\n",
       "       [ 1.00000000e-03, -1.27106663e-04,  1.63335395e-04,\n",
       "         5.21651705e-05],\n",
       "       [ 1.00000000e-03, -6.72611882e-05,  1.01459086e-04,\n",
       "        -1.08298972e-06],\n",
       "       [ 1.00000000e-03, -3.35184154e-05,  6.15361869e-05,\n",
       "        -2.14936242e-05],\n",
       "       [ 1.00000000e-03, -1.41211755e-05,  3.32904263e-05,\n",
       "        -2.31165397e-05]])"
      ]
     },
     "execution_count": 16,
     "metadata": {},
     "output_type": "execute_result"
    }
   ],
   "source": [
    "theta_store"
   ]
  },
  {
   "cell_type": "code",
   "execution_count": 17,
   "metadata": {},
   "outputs": [
    {
     "data": {
      "text/plain": [
       "array([ 1.00000000e-03, -1.41211755e-05,  3.32904263e-05, -2.31165397e-05])"
      ]
     },
     "execution_count": 17,
     "metadata": {},
     "output_type": "execute_result"
    }
   ],
   "source": [
    "theta"
   ]
  },
  {
   "cell_type": "code",
   "execution_count": 18,
   "metadata": {},
   "outputs": [
    {
     "data": {
      "text/plain": [
       "array([1.29209736e-13, 1.29209779e-16, 3.90000000e-01])"
      ]
     },
     "execution_count": 18,
     "metadata": {},
     "output_type": "execute_result"
    }
   ],
   "source": [
    "get_pos_Link_Robot(75/1000, 105/1000, 100/1000, 110/1000, theta[0], theta[1], theta[2], theta[3])"
   ]
  },
  {
   "cell_type": "code",
   "execution_count": 19,
   "metadata": {},
   "outputs": [],
   "source": [
    "# Trapezoidal Velocity Profile Trajectory Generation\n",
    "import math, numpy\n",
    "def Trapezoidal_Traj_Gen_Given_Vmax_and_Amax(vmax,amax,dt):\n",
    "    v = vmax\n",
    "    a = amax\n",
    "    \n",
    "    if math.pow(v,2)/a > 1:\n",
    "        return False\n",
    "    \n",
    "    T = (a + math.pow(v,2))/(v*a)\n",
    "    \n",
    "    time = 0\n",
    "    t_save = time\n",
    "    traj_save = numpy.array([0,0,0])\n",
    "    while T >= time:\n",
    "        if time >= 0 and time <= (v/a):\n",
    "            sddot = a\n",
    "            sdot = a*time\n",
    "            s = 0.5*a*math.pow(time,2)\n",
    "            \n",
    "        if time > (v/a) and time <= (T-v/a):\n",
    "            sddot = 0\n",
    "            sdot = v \n",
    "            s = v*time - 0.5*math.pow(v,2)/a\n",
    "            \n",
    "        if time > (T-v/a) and time <= T:\n",
    "            sddot = -a\n",
    "            sdot = a*(T-time)\n",
    "            s = (2*a*v*T - 2*math.pow(v,2) - math.pow(a,2)*math.pow((time-T),2))/(2*a)\n",
    "        \n",
    "        t_save = numpy.vstack((t_save, time))\n",
    "        traj_save = numpy.vstack((traj_save, numpy.array([s,sdot,sddot])))\n",
    "        time += dt\n",
    "\n",
    "    return t_save, traj_save\n",
    "\n",
    "def Trapezoidal_Traj_Gen_Given_Vmax_and_T(vmax,T,dt):\n",
    "    v = vmax\n",
    "    \n",
    "    if v*T > 1 and v*T <= 2:     \n",
    "        a = math.pow(v,2)/(v*T-1)\n",
    "    else:\n",
    "        return False, False            \n",
    "    \n",
    "    time = 0\n",
    "    t_save = time\n",
    "    traj_save = numpy.array([0,0,0])\n",
    "    while T >= time:\n",
    "        if time >= 0 and time <= (v/a):\n",
    "            sddot = a\n",
    "            sdot = a*time\n",
    "            s = 0.5*a*math.pow(time,2)\n",
    "            \n",
    "        if time > (v/a) and time <= (T-v/a):\n",
    "            sddot = 0\n",
    "            sdot = v \n",
    "            s = v*time - 0.5*math.pow(v,2)/a\n",
    "            \n",
    "        if time > (T-v/a) and time <= T:\n",
    "            sddot = -a\n",
    "            sdot = a*(T-time)\n",
    "            s = (2*a*v*T - 2*math.pow(v,2) - math.pow(a,2)*math.pow((time-T),2))/(2*a)\n",
    "        \n",
    "        t_save = numpy.vstack((t_save, time))\n",
    "        traj_save = numpy.vstack((traj_save, numpy.array([s,sdot,sddot])))\n",
    "        time += dt\n",
    "\n",
    "    return t_save, traj_save\n",
    "\n",
    "def Trapezoidal_Traj_Gen_Given_Amax_and_T(amax,T,dt):\n",
    "    a = amax\n",
    "    \n",
    "    if a*math.pow(T,2) >= 4:     \n",
    "        v = 0.5*(a*T - math.pow(a,0.5)*math.pow((a*math.pow(T,2)-4),0.5))\n",
    "    else:\n",
    "        return False, False            \n",
    "    \n",
    "    time = 0\n",
    "    t_save = time\n",
    "    traj_save = numpy.array([0,0,0])\n",
    "    while T >= time:\n",
    "        if time >= 0 and time <= (v/a):\n",
    "            sddot = a\n",
    "            sdot = a*time\n",
    "            s = 0.5*a*math.pow(time,2)\n",
    "            \n",
    "        if time > (v/a) and time <= (T-v/a):\n",
    "            sddot = 0\n",
    "            sdot = v \n",
    "            s = v*time - 0.5*math.pow(v,2)/a\n",
    "            \n",
    "        if time > (T-v/a) and time <= T:\n",
    "            sddot = -a\n",
    "            sdot = a*(T-time)\n",
    "            s = (2*a*v*T - 2*math.pow(v,2) - math.pow(a,2)*math.pow((time-T),2))/(2*a)\n",
    "        \n",
    "        t_save = numpy.vstack((t_save, time))\n",
    "        traj_save = numpy.vstack((traj_save, numpy.array([s,sdot,sddot])))\n",
    "        time += dt\n",
    "\n",
    "    return t_save, traj_save\n",
    "\n",
    "# 0~1범위의 trajectory를 기반으로 실질적인 Path를 생성\n",
    "def Path_Gen(start,goal,traj):\n",
    "    path = start + traj*(goal-start)\n",
    "    return path    "
   ]
  },
  {
   "cell_type": "code",
   "execution_count": 20,
   "metadata": {},
   "outputs": [],
   "source": [
    "import matplotlib.pyplot as plt\n",
    "%matplotlib inline"
   ]
  },
  {
   "cell_type": "code",
   "execution_count": 21,
   "metadata": {},
   "outputs": [
    {
     "data": {
      "image/png": "[encoded data removed]",
      "text/plain": [
       "<Figure size 432x288 with 1 Axes>"
      ]
     },
     "metadata": {
      "needs_background": "light"
     },
     "output_type": "display_data"
    }
   ],
   "source": [
    "# 속도와 가속도의 최대값을 파라미터로 주고 궤적찾기\n",
    "time, traj = Trapezoidal_Traj_Gen_Given_Vmax_and_Amax(0.2, 0.1, 0.01)\n",
    "plt.plot(time, traj)\n",
    "plt.legend(['s','v','a'])\n",
    "plt.xlabel('time[sec]')\n",
    "plt.show()"
   ]
  },
  {
   "cell_type": "code",
   "execution_count": 22,
   "metadata": {},
   "outputs": [
    {
     "data": {
      "image/png": "[encoded data removed]",
      "text/plain": [
       "<Figure size 432x288 with 1 Axes>"
      ]
     },
     "metadata": {
      "needs_background": "light"
     },
     "output_type": "display_data"
    }
   ],
   "source": [
    "# 속도 최대값과 목표시간을 파라미터로 주고 궤적찾기\n",
    "time, traj = Trapezoidal_Traj_Gen_Given_Vmax_and_T(1.4, 1, 0.01)\n",
    "plt.plot(time, traj)\n",
    "plt.legend(['s','v','a'])\n",
    "plt.xlabel('time[sec]')\n",
    "plt.show()"
   ]
  },
  {
   "cell_type": "code",
   "execution_count": 23,
   "metadata": {},
   "outputs": [
    {
     "data": {
      "image/png": "[encoded data removed]",
      "text/plain": [
       "<Figure size 432x288 with 1 Axes>"
      ]
     },
     "metadata": {
      "needs_background": "light"
     },
     "output_type": "display_data"
    }
   ],
   "source": [
    "# 기속도 최대값과 목표시간을 파라미터로 주고 궤적찾기\n",
    "time, traj = Trapezoidal_Traj_Gen_Given_Amax_and_T(1.2, 2, 0.01)\n",
    "plt.plot(time, traj)\n",
    "plt.legend(['s','v','a'])\n",
    "plt.xlabel('time[sec]')\n",
    "plt.show()"
   ]
  },
  {
   "cell_type": "code",
   "execution_count": 24,
   "metadata": {},
   "outputs": [
    {
     "data": {
      "image/png": "[encoded data removed]",
      "text/plain": [
       "<Figure size 432x288 with 1 Axes>"
      ]
     },
     "metadata": {
      "needs_background": "light"
     },
     "output_type": "display_data"
    }
   ],
   "source": [
    "# 목표점이 x = 0.15, y=0, z=0.3 일때\n",
    "# Cartesian 좌표계 상에서의 trajectory 값을 찾아보자. \n",
    "# 가속도는 1.5 m/s2, 시간은 2초일때\n",
    "time, traj = Trapezoidal_Traj_Gen_Given_Amax_and_T(1.2, 2, 0.01)\n",
    "x_traj = Path_Gen(0,0.15,traj[:,0])\n",
    "y_traj = Path_Gen(0,0.,traj[:,0])\n",
    "z_traj = Path_Gen(0.39,0.3,traj[:,0])\n",
    "plt.plot(time, x_traj, time, y_traj, time, z_traj)\n",
    "plt.legend(['x','y','z'])\n",
    "plt.xlabel('time[sec]')\n",
    "plt.show()"
   ]
  },
  {
   "cell_type": "code",
   "execution_count": 25,
   "metadata": {},
   "outputs": [],
   "source": [
    "# 위의 x, y, z 값에 따른 joint space 각도값을 역기구학으로 풀자\n",
    "# 임의의 radian 결과값을 -pi에서 pi범위의 값으로 변환\n",
    "def convert_radian_from_npi_to_pi(rad):\n",
    "    ang = rad\n",
    "    while math.fabs(ang) >= (np.pi):\n",
    "        if ang>0:\n",
    "            ang-=(numpy.pi*2)\n",
    "        else:\n",
    "            ang+=(numpy.pi*2)\n",
    "    return ang\n",
    "\n",
    "# 수치적 역기구학 푸는 함수\n",
    "def numerical_IK(x_des,th_now):\n",
    "    epsilon = 1e-10\n",
    "    \n",
    "    i = 0\n",
    "    theta = th_now\n",
    "    err = x_des - get_pos_Link_Robot(75/1000, 105/1000, 100/1000, 110/1000, theta[0], theta[1], theta[2], theta[3])\n",
    "\n",
    "    while (numpy.linalg.norm(err) > epsilon):\n",
    "        J_now = func_J(theta[0], theta[1], theta[2], theta[3])\n",
    "        m, n = J_now.shape\n",
    "        if m > n:\n",
    "            J_inv = np.linalg.inv((J_now.transpose() @ J_now)) @ J_now.transpose()\n",
    "        if m < n:\n",
    "            J_inv = J_now.transpose() @ np.linalg.inv((J_now @ J_now.transpose()))\n",
    "        if m==n:\n",
    "            J_inv = np.linalg.inv(J_now)\n",
    "            \n",
    "        theta = theta + J_inv @ err\n",
    "        for j in range(len(theta)):\n",
    "            theta[j] = convert_radian_from_npi_to_pi(theta[j])\n",
    "        err = x_des - get_pos_Link_Robot(75/1000, 105/1000, 100/1000, 110/1000, theta[0], theta[1], theta[2], theta[3])\n",
    "        i += 1\n",
    "        \n",
    "    return theta"
   ]
  },
  {
   "cell_type": "code",
   "execution_count": 26,
   "metadata": {},
   "outputs": [],
   "source": [
    "# 앞에서 만든 Path를 따라 움직이기 위한 Joint Space 각도를 수치적 IK를 이용해 구하기\n",
    "theta = numpy.array([0.001,0.001,0.001,0.001])\n",
    "for index in range(len(time)):\n",
    "    x_des = numpy.array([x_traj[index], y_traj[index], z_traj[index]])\n",
    "    theta = numerical_IK(x_des,theta)\n",
    "    if index == 0:\n",
    "        theta_store = theta\n",
    "    else:\n",
    "        theta_store = numpy.vstack([theta_store, theta])"
   ]
  },
  {
   "cell_type": "code",
   "execution_count": 27,
   "metadata": {},
   "outputs": [
    {
     "data": {
      "text/plain": [
       "array([-8.49792911e-322, -2.37631401e+001,  2.28749455e+001,\n",
       "       -7.38693760e+001])"
      ]
     },
     "execution_count": 27,
     "metadata": {},
     "output_type": "execute_result"
    }
   ],
   "source": [
    "# Goal 지점에서의 역기구학 해. Degree\n",
    "numpy.degrees(theta_store[index,:])"
   ]
  },
  {
   "cell_type": "code",
   "execution_count": 28,
   "metadata": {},
   "outputs": [
    {
     "data": {
      "text/plain": [
       "array([ 0.149991 , -0.       ,  0.3000054])"
      ]
     },
     "execution_count": 28,
     "metadata": {},
     "output_type": "execute_result"
    }
   ],
   "source": [
    "# Goal 지점에서의 역기구학 해값을 이용해 다시 정기구학을 풀어서 목표값이 맞는지 확인\n",
    "get_pos_Link_Robot(75/1000, 105/1000, 100/1000, 110/1000, \n",
    "                   theta_store[index,0], theta_store[index,1], theta_store[index,2], theta_store[index,3])"
   ]
  },
  {
   "cell_type": "code",
   "execution_count": 29,
   "metadata": {},
   "outputs": [
    {
     "data": {
      "image/png": "[encoded data removed]",
      "text/plain": [
       "<Figure size 432x288 with 1 Axes>"
      ]
     },
     "metadata": {
      "needs_background": "light"
     },
     "output_type": "display_data"
    }
   ],
   "source": [
    "plt.plot(time, theta_store[:,0], time, theta_store[:,1], time, theta_store[:,2], time, theta_store[:,3])\n",
    "plt.legend(['theta1','theta2','theta3', 'theta4'])\n",
    "plt.xlabel('time[sec]')\n",
    "plt.show()"
   ]
  },
  {
   "cell_type": "code",
   "execution_count": 30,
   "metadata": {},
   "outputs": [],
   "source": [
    "theta_traj = numpy.degrees(theta_store)"
   ]
  },
  {
   "cell_type": "code",
   "execution_count": 31,
   "metadata": {},
   "outputs": [
    {
     "data": {
      "image/png": "[encoded data removed]",
      "text/plain": [
       "<Figure size 432x288 with 1 Axes>"
      ]
     },
     "metadata": {
      "needs_background": "light"
     },
     "output_type": "display_data"
    }
   ],
   "source": [
    "plt.plot(time, theta_traj[:,0], time, theta_traj[:,1], time, theta_traj[:,2], time, theta_traj[:,3])\n",
    "plt.legend(['theta1','theta2','theta3', 'theta4'])\n",
    "plt.xlabel('time[sec]')\n",
    "plt.show()"
   ]
  },
  {
   "cell_type": "code",
   "execution_count": null,
   "metadata": {},
   "outputs": [],
   "source": []
  }
 ],
 "metadata": {
  "kernelspec": {
   "display_name": "Python 3",
   "language": "python",
   "name": "python3"
  },
  "language_info": {
   "codemirror_mode": {
    "name": "ipython",
    "version": 3
   },
   "file_extension": ".py",
   "mimetype": "text/x-python",
   "name": "python",
   "nbconvert_exporter": "python",
   "pygments_lexer": "ipython3",
   "version": "3.7.6"
  }
 },
 "nbformat": 4,
 "nbformat_minor": 4
}
